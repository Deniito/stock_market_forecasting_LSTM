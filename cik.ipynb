{
 "cells": [
  {
   "metadata": {
    "ExecuteTime": {
     "end_time": "2025-02-18T19:20:35.330699Z",
     "start_time": "2025-02-18T19:20:35.326883Z"
    }
   },
   "cell_type": "code",
   "source": [
    "import polars as pl\n",
    "\n",
    "import os\n",
    "import json"
   ],
   "id": "fbc121e30a2defb3",
   "outputs": [],
   "execution_count": 7
  },
  {
   "metadata": {
    "ExecuteTime": {
     "end_time": "2025-02-18T19:20:36.550003Z",
     "start_time": "2025-02-18T19:20:36.545795Z"
    }
   },
   "cell_type": "code",
   "source": [
    "#expected to be a directory with submission, companyfacts, ticker.txt and company_tickers.json all available on SEC website\n",
    "data_dir = \"data\"\n",
    "\n",
    "facts_dir = os.path.join(data_dir, \"facts\")\n",
    "stock_data_dir = os.path.join(data_dir, \"stock_data\")\n",
    "\n",
    "company_data_dir = os.path.join(data_dir, \"company_data\")\n",
    "\n",
    "submissions_dir = os.path.join(data_dir, \"submission\")\n",
    "company_facts_dir = os.path.join(data_dir, \"companyfacts\")\n",
    "csv_file_path = os.path.join(data_dir, \"CIK.csv\")"
   ],
   "id": "8c4419dbacf3d61c",
   "outputs": [],
   "execution_count": 8
  },
  {
   "metadata": {
    "ExecuteTime": {
     "end_time": "2025-02-18T20:11:13.649969Z",
     "start_time": "2025-02-18T20:11:13.635602Z"
    }
   },
   "cell_type": "code",
   "source": [
    "if not os.path.exists(csv_file_path):\n",
    "    company_tickers_file_path = os.path.join(main_dir, \"company_tickers.json\")\n",
    "    \n",
    "    if os.path.exists(company_tickers_file_path):\n",
    "        print(\"company_tickers.json found. Processing...\")\n",
    "        \n",
    "        with open(company_tickers_file_path, 'r') as json_file:\n",
    "            json_data = json.load(json_file)\n",
    "        \n",
    "        json_records = []\n",
    "        for entry in json_data.values():\n",
    "            json_records.append([\n",
    "                entry.get(\"ticker\"), \n",
    "                str(entry.get(\"cik_str\")).zfill(10), \n",
    "                entry.get(\"title\", \"\")\n",
    "            ])\n",
    "        \n",
    "        df_json = pl.DataFrame(json_records, schema=[\"ticker\", \"cik_str\", \"title\"], orient=\"row\")\n",
    "        df_json = df_json.with_columns(pl.col(\"cik_str\").cast(pl.Utf8))\n",
    "        df_json.write_csv(csv_file_path)\n",
    "        print(\"CIK.csv created from company_tickers.json.\")\n",
    "    else:\n",
    "        raise FileNotFoundError(\"Error: company_tickers.json not found. Cannot proceed.\")\n",
    "    \n",
    "    ticker_file_path = os.path.join(main_dir, \"ticker.txt\")\n",
    "    \n",
    "    if os.path.exists(ticker_file_path):\n",
    "        print(\"ticker.txt found. Processing and merging...\")\n",
    "        \n",
    "        txt_data = []\n",
    "        with open(ticker_file_path, 'r') as txt_file:\n",
    "            for line in txt_file:\n",
    "                if line.strip():\n",
    "                    parts = line.split()\n",
    "                    if len(parts) == 2:\n",
    "                        txt_data.append([parts[0], str(parts[1]).zfill(10), \"\"])\n",
    "        \n",
    "        df_txt = pl.DataFrame(txt_data, schema=[\"ticker\", \"cik_str\", \"title\"], orient=\"row\")\n",
    "        df_txt = df_txt.with_columns(pl.col(\"cik_str\").cast(pl.Utf8))  \n",
    "        df_existing = pl.read_csv(csv_file_path).with_columns(pl.col(\"cik_str\").cast(pl.Utf8))\n",
    "        \n",
    "        df_combined = pl.concat([df_existing, df_txt])\n",
    "        df_combined = df_combined.sort([\"ticker\", \"title\"], descending=[False, True]).unique(subset=[\"ticker\", \"cik_str\"], keep=\"first\")\n",
    "        \n",
    "        # Save back to CSV\n",
    "        df_combined\n",
    "        df_combined.write_csv(csv_file_path)\n",
    "        print(\"ticker.txt data merged successfully into CIK.csv!\")\n",
    "    else:\n",
    "        print(\"ticker.txt not found. Skipping TXT processing.\")\n",
    "else:\n",
    "    print(\"cik.csv found.\")\n",
    "\n"
   ],
   "id": "306dc27bde6f4a2b",
   "outputs": [
    {
     "name": "stdout",
     "output_type": "stream",
     "text": [
      "cik.csv found.\n"
     ]
    }
   ],
   "execution_count": 24
  },
  {
   "metadata": {
    "ExecuteTime": {
     "end_time": "2025-02-18T20:11:21.002324Z",
     "start_time": "2025-02-18T20:11:20.976840Z"
    }
   },
   "cell_type": "code",
   "source": [
    "cik_df = pl.read_csv(csv_file_path).with_columns(\n",
    "    pl.col(\"cik_str\").cast(pl.Utf8).str.zfill(10)\n",
    ")\n",
    "\n",
    "print(f\"Total df shape: {cik_df.shape}\")\n",
    "print(cik_df[:20])"
   ],
   "id": "481174294c773408",
   "outputs": [
    {
     "name": "stdout",
     "output_type": "stream",
     "text": [
      "Total df shape: (22122, 3)\n",
      "shape: (20, 3)\n",
      "┌────────┬────────────┬─────────────────────────────────┐\n",
      "│ ticker ┆ cik_str    ┆ title                           │\n",
      "│ ---    ┆ ---        ┆ ---                             │\n",
      "│ str    ┆ str        ┆ str                             │\n",
      "╞════════╪════════════╪═════════════════════════════════╡\n",
      "│ FBK    ┆ 0001649749 ┆ FB Financial Corp               │\n",
      "│ GD     ┆ 0000040533 ┆ GENERAL DYNAMICS CORP           │\n",
      "│ aem    ┆ 0000002809 ┆                                 │\n",
      "│ PMFAX  ┆ 0001723701 ┆ PIMCO Flexible Municipal Incom… │\n",
      "│ bgry   ┆ 0001824734 ┆                                 │\n",
      "│ …      ┆ …          ┆ …                               │\n",
      "│ kkoyf  ┆ 0001436794 ┆                                 │\n",
      "│ BRAG   ┆ 0001867834 ┆ Bragg Gaming Group Inc.         │\n",
      "│ TOI    ┆ 0001799191 ┆ Oncology Institute, Inc.        │\n",
      "│ fix    ┆ 0001035983 ┆                                 │\n",
      "│ BDCZ   ┆ 0001114446 ┆ UBS AG                          │\n",
      "└────────┴────────────┴─────────────────────────────────┘\n"
     ]
    }
   ],
   "execution_count": 25
  }
 ],
 "metadata": {
  "kernelspec": {
   "display_name": "Python 3",
   "language": "python",
   "name": "python3"
  },
  "language_info": {
   "codemirror_mode": {
    "name": "ipython",
    "version": 2
   },
   "file_extension": ".py",
   "mimetype": "text/x-python",
   "name": "python",
   "nbconvert_exporter": "python",
   "pygments_lexer": "ipython2",
   "version": "2.7.6"
  }
 },
 "nbformat": 4,
 "nbformat_minor": 5
}
